{
 "cells": [
  {
   "cell_type": "code",
   "execution_count": null,
   "metadata": {},
   "outputs": [],
   "source": [
    "import plotly.plotly as py\n",
    "import cufflinks as cf\n",
    "import pandas as pd\n",
    "import geopandas as gp\n",
    "import numpy as np\n",
    "import math\n",
    "import json\n",
    "import itertools\n",
    "from pprint import pprint\n",
    "from datetime import datetime\n",
    "from dateutil import parser\n",
    "from IPython.core.interactiveshell import InteractiveShell\n",
    "import matplotlib\n",
    "from plotly.offline import download_plotlyjs,init_notebook_mode,plot,iplot\n",
    "#import matplotlib.pyplot as plt\n",
    "InteractiveShell.ast_node_interactivity = \"all\"\n",
    "init_notebook_mode(connected=True)\n",
    "cf.go_offline()"
   ]
  },
  {
   "cell_type": "code",
   "execution_count": null,
   "metadata": {},
   "outputs": [],
   "source": [
    "londonProfile = pd.read_csv(\"data/london-borough-profiles.csv\")\n",
    "ambulanceIncidents = pd.read_excel(\"data/ambulance-borough-monthly.xls\", sheet_name='All Ambulance Attended')"
   ]
  },
  {
   "cell_type": "code",
   "execution_count": null,
   "metadata": {
    "scrolled": false
   },
   "outputs": [],
   "source": [
    "#Data cleaning -- londonProfile\n",
    "\n",
    "#Keep stats for borough and drop stats for London, England and United Kingdom.\n",
    "londonProfile = londonProfile.drop([33,34,35,36,37])\n",
    "#sort by Code\n",
    "londonProfile = londonProfile.sort_values(by = ['Code'])\n",
    "#Set code as index, i.e. use E09000001 as index instead of simple number 1,2,3...\n",
    "londonProfile = londonProfile.set_index(keys='Code')\n",
    "#show the results -- You can also use print(londonProfile)\n",
    "londonProfile\n",
    "\n",
    "#Data cleaning -- ambulanceIncidents\n",
    "#Drop the column with Total of all Boroughs\n",
    "ambulanceIncidents = ambulanceIncidents.drop([33])\n",
    "#sort by Code\n",
    "ambulanceIncidents = ambulanceIncidents.sort_values(by = ['Code'])\n",
    "#Set code as index, i.e. use E09000001 as index instead of simple number 1,2,3...\n",
    "ambulanceIncidents = ambulanceIncidents.set_index(keys='Code')\n",
    "#show the results\n",
    "ambulanceIncidents"
   ]
  },
  {
   "cell_type": "code",
   "execution_count": null,
   "metadata": {},
   "outputs": [],
   "source": [
    "ambulanceIncidents['AllIncidents'] = ambulanceIncidents.sum(axis = 1)\n",
    "ambulanceIncidents"
   ]
  },
  {
   "cell_type": "code",
   "execution_count": null,
   "metadata": {
    "scrolled": false
   },
   "outputs": [],
   "source": [
    "#Merge our two datasets\n",
    "lpsmall = londonProfile[['GLA_Population_Estimate_2017', 'GLA_Household_Estimate_2017', 'Inland_Area_(Hectares)', 'Population_density_(per_hectare)_2017', 'Average_Age,_2017', 'Anxiety_score_2011-14_(out_of_10)','Childhood_Obesity_Prevalance_(%)_2015/16']]\n",
    "mergedDf = pd.merge(ambulanceIncidents[['AllIncidents']], lpsmall, left_index=True, right_index=True)\n",
    "mergedDf"
   ]
  },
  {
   "cell_type": "code",
   "execution_count": null,
   "metadata": {},
   "outputs": [],
   "source": [
    "mergedDf.corr()"
   ]
  },
  {
   "cell_type": "code",
   "execution_count": null,
   "metadata": {},
   "outputs": [],
   "source": [
    "#Read the shape file\n",
    "borough = gp.read_file('data/statistical-gis-boundaries-london/MapInfo/London_Borough_Excluding_MHW.tab')\n",
    "#Change to CRS to UTM\n",
    "borough = borough.to_crs('+proj=utm +zone=30 +ellps=WGS84 +datum=WGS84 +units=m +no_defs\"') # world.to_crs(epsg=3395) would also work\n",
    "#In this dataset borough code is called GSS_Code so we fix it.\n",
    "borough = borough.rename(index=str, columns={\"GSS_Code\": \"Code\"})\n",
    "#sort by Code\n",
    "borough = borough.sort_values(by = ['Code'])\n",
    "#Set code as index, i.e. use E09000001 as index instead of simple number 1,2,3...\n",
    "borough = borough.set_index(keys='Code')\n",
    "#Calculate Centroid of every borough\n",
    "borough['centroid'] = borough['geometry'].centroid\n",
    "print(borough)\n",
    "borough.total_bounds"
   ]
  },
  {
   "cell_type": "code",
   "execution_count": null,
   "metadata": {},
   "outputs": [],
   "source": [
    "ax = borough.plot()"
   ]
  },
  {
   "cell_type": "code",
   "execution_count": null,
   "metadata": {},
   "outputs": [],
   "source": [
    "londonMinX = borough.total_bounds[0]\n",
    "londonMinY = borough.total_bounds[1]\n",
    "londonMaxX = borough.total_bounds[2]\n",
    "londonMaxY = borough.total_bounds[3]\n",
    "\n",
    "print('London Length (in km):', (londonMaxX - londonMinX)/1000)\n",
    "print('London Breadth (in km):', (londonMaxY - londonMinY)/1000)\n",
    "#Divide london in cells of 500m * 500m\n",
    "# cellCentres = np.zeros([58*2+1, 45*2 + 1])\n",
    "# cellCentres.shape\n",
    "#Total possible location = Breadth * length = 91 * 117 = 10647\n",
    "# Row corresponds to breadth and length to coloums. \n",
    "grid_coloums = 58*2+1\n",
    "grid_rows = 45*2 + 1\n",
    "M = grid_rows * grid_coloums\n",
    "\n",
    "# Total number of possible cells \n",
    "M"
   ]
  },
  {
   "cell_type": "code",
   "execution_count": null,
   "metadata": {},
   "outputs": [],
   "source": [
    "finalDataFrame = pd.merge(borough[['centroid']], mergedDf, left_index=True, right_index=True)\n",
    "finalDataFrame\n"
   ]
  },
  {
   "cell_type": "code",
   "execution_count": null,
   "metadata": {},
   "outputs": [],
   "source": [
    "#Function related to the distance between points, cells etc\n",
    "import math\n",
    "# A function that returns the index of the cell where a point will lie\n",
    "def pointToCellIdConversion(x,y):\n",
    "    coloumn = int((x - londonMinX) / 500)\n",
    "    row = int((y - londonMinY) / 500)\n",
    "    cid = row * grid_coloums + coloumn\n",
    "    return (cid)\n",
    "\n",
    "# A function that returns the centre of the cell with a given index\n",
    "def cellIdtoPointConversion(cid):\n",
    "    row = int(cid / grid_coloums)\n",
    "    coloumn = int(cid % grid_coloums)\n",
    "    return indexToPointConversion(row,coloumn)\n",
    "\n",
    "# A function that returns the centre of the cell with a given index\n",
    "def indexToPointConversion(row,coloumn):\n",
    "    y = londonMinY + 250 + row * 500\n",
    "    x = londonMinX + 250 + coloumn * 500\n",
    "    return(x,y)\n",
    "\n",
    "def l1DistanceBetweenCellIdandPoint(cid, x1, y1):\n",
    "    x2,y2 = cellIdtoPointConversion(cid)\n",
    "    return( math.fabs(x2-x1) +  math.fabs(y2-y1))\n",
    "\n",
    "def l2DistanceBetweenCellIdandPoint(cid, x1, y1):\n",
    "    x2,y2 = cellIdtoPointConversion(cid)\n",
    "    return math.sqrt((x2-x1)*(x2-x1) +  (y2-y1)*(y2-y1))\n",
    "# Test the above functions\n",
    "borough.total_bounds\n",
    "cellIdtoPointConversion(0)\n",
    "cellIdtoPointConversion(117)\n",
    "cellIdtoPointConversion(5670)\n",
    "pointToCellIdConversion(673171.2412707923, 5685885.993756533) # First row first coloumn\n",
    "pointToCellIdConversion(673171.2412707923, 5686385.993756533) # Next row first coloumn\n",
    "l1DistanceBetweenCellIdandPoint(117, 673171.2412707923, 5685885.993756533) # They are 500 m appart\n",
    "l2DistanceBetweenCellIdandPoint(117, 673171.2412707923, 5685885.993756533) # They are 500 m appart"
   ]
  },
  {
   "cell_type": "code",
   "execution_count": null,
   "metadata": {},
   "outputs": [],
   "source": [
    "# Define parameters for genetic algorithm\n",
    "\n",
    "#Number of ambulance stations or the genes\n",
    "ambulance_stations = 20\n",
    "\n",
    "#chromosome_count in the population (we take fixed size population)\n",
    "chromosome_count = 100 \n",
    "\n",
    "#Probability that any \"one\" gene will mutate after the crossover\n",
    "mutation_probability = 0.50 \n",
    "\n",
    "# Total number of possible ambulance sites (already calculated)\n",
    "total_possible_ambulance_sites = M"
   ]
  },
  {
   "cell_type": "code",
   "execution_count": null,
   "metadata": {},
   "outputs": [],
   "source": [
    "#Genetic algorithm!!\n",
    "\n",
    "# Fitness function for a cell/gene\n",
    "def fitnessFunction(cid):\n",
    "    num,deno = 0,0\n",
    "    for index, row in finalDataFrame.iterrows():\n",
    "        distance = l1DistanceBetweenCellIdandPoint(cid, row['centroid'].x, row['centroid'].y )\n",
    "        num += row['AllIncidents'] * distance\n",
    "        deno += row['AllIncidents']\n",
    "    return (num/deno)\n",
    "\n",
    "# Fitness function for a whole Chromosome\n",
    "def fitnessFunctionChromosome(chromosome):\n",
    "    if(chromosome.ndim > 1):\n",
    "        print(\"Chromosome should be 1D!!! \\n Something is wrong\")\n",
    "        return(sys.maxsize)\n",
    "    else:\n",
    "        score = 0\n",
    "        for g in chromosome:\n",
    "            score += fitnessFunction(g)\n",
    "    return(score)\n",
    "\n",
    "# Crossover \n",
    "def chromosomeCrossover(c1,c2):\n",
    "    c = np.unique(np.concatenate((c1,c2)))\n",
    "    return np.random.choice(c, ambulance_stations, replace=False)\n",
    "    \n",
    "# Mutation \n",
    "def mutation(c):\n",
    "    r = np.random.rand()\n",
    "    #Mutation time!!\n",
    "    if (r < mutation_probability):\n",
    "        s = np.random.randint(0,ambulance_stations,1)[0]\n",
    "        newLocation = np.random.randint(0,total_possible_ambulance_sites,1)[0]\n",
    "        #Make sure we are not selecting one of the already selected sites\n",
    "        while(np.isin([newLocation],c)[0]):\n",
    "              newLocation = np.random.randint(0,total_possible_ambulance_sites,1)[0]\n",
    "        c[s] = newLocation\n",
    "    return c\n",
    "\n",
    "def populationInitialization(c,g):\n",
    "    population = np.random.randint(0,total_possible_ambulance_sites,(c,g),dtype='int')        \n",
    "    return(population)\n",
    "   \n",
    "def populationScore(pop):\n",
    "    nrows =  pop.shape[0]\n",
    "    score = np.zeros((nrows),dtype='int')\n",
    "    for i in range(0,nrows):\n",
    "        score[i] = fitnessFunctionChromosome(population[i])\n",
    "    return (score)\n",
    "\n",
    "# In every gerenation top \"perc\" percetage of the population is retained and the rest is generated from the top perc using crossovers\n",
    "def newPopulation(pop, perc = 0.10):\n",
    "    sc = populationScore(population)\n",
    "    top_count = int(chromosome_count * perc)\n",
    "    top_index = np.argpartition(sc, top_count)[0:top_count]\n",
    "    newPopulation = np.zeros((chromosome_count,ambulance_stations),dtype='int')\n",
    "    # New population is top perc of old population and crossovers\n",
    "    for i in range(top_count):\n",
    "        newPopulation[i] = population[top_index[i]]\n",
    "    pitr = range(top_count)\n",
    "    for i in range(top_count,chromosome_count):\n",
    "        parents = np.random.choice(pitr, 2, replace=False)\n",
    "        child = chromosomeCrossover(newPopulation[parents[0]],newPopulation[parents[1]])\n",
    "        newPopulation[i] = mutation(child)\n",
    "    return(newPopulation)"
   ]
  },
  {
   "cell_type": "code",
   "execution_count": null,
   "metadata": {
    "scrolled": false
   },
   "outputs": [],
   "source": [
    "# We define a fixed population of 100 individuals/chromosomes with k genes each\n",
    "# in every iteration the 90% of the population is replaced with the offsprings\n",
    "\n",
    "min_scores =[]\n",
    "num_iter = 20\n",
    "population = populationInitialization(chromosome_count,ambulance_stations)\n",
    "best_solution = []\n",
    "\n",
    "for i in range(20):\n",
    "    sc = populationScore(population)\n",
    "    print(\"Itr:\", i)\n",
    "    print(\"Min Score\",min(sc))\n",
    "    min_scores.append(min(sc))\n",
    "    # Best solution in this generation\n",
    "    ind = np.unravel_index(np.argmin(sc, axis=None), sc.shape)\n",
    "    best_solution = population[ind]\n",
    "    population = newPopulation(population, 0.10)"
   ]
  },
  {
   "cell_type": "code",
   "execution_count": null,
   "metadata": {},
   "outputs": [],
   "source": [
    "import matplotlib.pyplot as plt\n",
    "plt.plot(min_scores)\n",
    "# plt.show()"
   ]
  }
 ],
 "metadata": {
  "kernelspec": {
   "display_name": "Python 3",
   "language": "python",
   "name": "python3"
  },
  "language_info": {
   "codemirror_mode": {
    "name": "ipython",
    "version": 3
   },
   "file_extension": ".py",
   "mimetype": "text/x-python",
   "name": "python",
   "nbconvert_exporter": "python",
   "pygments_lexer": "ipython3",
   "version": "3.6.1"
  }
 },
 "nbformat": 4,
 "nbformat_minor": 2
}
